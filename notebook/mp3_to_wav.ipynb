{
 "cells": [
  {
   "cell_type": "code",
   "execution_count": 1,
   "metadata": {},
   "outputs": [],
   "source": [
    "import glob\n",
    "import os\n",
    "import pydub"
   ]
  },
  {
   "cell_type": "code",
   "execution_count": 2,
   "metadata": {
    "scrolled": true
   },
   "outputs": [
    {
     "data": {
      "text/plain": [
       "['../data/ru_small/clips/common_voice_ru_18849019.mp3',\n",
       " '../data/ru_small/clips/common_voice_ru_18849079.mp3',\n",
       " '../data/ru_small/clips/common_voice_ru_18849004.mp3',\n",
       " '../data/ru_small/clips/common_voice_ru_18849048.mp3',\n",
       " '../data/ru_small/clips/common_voice_ru_18849005.mp3',\n",
       " '../data/ru_small/clips/common_voice_ru_18849066.mp3',\n",
       " '../data/ru_small/clips/common_voice_ru_18849006.mp3',\n",
       " '../data/ru_small/clips/common_voice_ru_18849081.mp3',\n",
       " '../data/ru_small/clips/common_voice_ru_18849018.mp3',\n",
       " '../data/ru_small/clips/common_voice_ru_18849063.mp3',\n",
       " '../data/ru_small/clips/common_voice_ru_18849082.mp3',\n",
       " '../data/ru_small/clips/common_voice_ru_18849050.mp3',\n",
       " '../data/ru_small/clips/common_voice_ru_18849003.mp3',\n",
       " '../data/ru_small/clips/common_voice_ru_18849092.mp3',\n",
       " '../data/ru_small/clips/common_voice_ru_18849080.mp3',\n",
       " '../data/ru_small/clips/common_voice_ru_18849103.mp3',\n",
       " '../data/ru_small/clips/common_voice_ru_18849046.mp3',\n",
       " '../data/ru_small/clips/common_voice_ru_18849052.mp3',\n",
       " '../data/ru_small/clips/common_voice_ru_18849022.mp3',\n",
       " '../data/ru_small/clips/common_voice_ru_18849091.mp3',\n",
       " '../data/ru_small/clips/common_voice_ru_18849051.mp3',\n",
       " '../data/ru_small/clips/common_voice_ru_18849064.mp3',\n",
       " '../data/ru_small/clips/common_voice_ru_18849020.mp3',\n",
       " '../data/ru_small/clips/common_voice_ru_18849007.mp3',\n",
       " '../data/ru_small/clips/common_voice_ru_18849088.mp3',\n",
       " '../data/ru_small/clips/common_voice_ru_18849089.mp3',\n",
       " '../data/ru_small/clips/common_voice_ru_18849065.mp3',\n",
       " '../data/ru_small/clips/common_voice_ru_18849090.mp3',\n",
       " '../data/ru_small/clips/common_voice_ru_18849021.mp3',\n",
       " '../data/ru_small/clips/common_voice_ru_18849078.mp3',\n",
       " '../data/nl_small/clips/common_voice_nl_17691470.mp3',\n",
       " '../data/nl_small/clips/common_voice_nl_17691491.mp3',\n",
       " '../data/nl_small/clips/common_voice_nl_17691477.mp3',\n",
       " '../data/nl_small/clips/common_voice_nl_17691474.mp3',\n",
       " '../data/nl_small/clips/common_voice_nl_17691497.mp3',\n",
       " '../data/nl_small/clips/common_voice_nl_17691481.mp3',\n",
       " '../data/nl_small/clips/common_voice_nl_17691475.mp3',\n",
       " '../data/nl_small/clips/common_voice_nl_17691487.mp3',\n",
       " '../data/nl_small/clips/common_voice_nl_17691035.mp3',\n",
       " '../data/nl_small/clips/common_voice_nl_17691500.mp3',\n",
       " '../data/nl_small/clips/common_voice_nl_17691034.mp3',\n",
       " '../data/nl_small/clips/common_voice_nl_17691468.mp3',\n",
       " '../data/nl_small/clips/common_voice_nl_17691469.mp3',\n",
       " '../data/nl_small/clips/common_voice_nl_17691490.mp3',\n",
       " '../data/nl_small/clips/common_voice_nl_17691480.mp3',\n",
       " '../data/nl_small/clips/common_voice_nl_17691501.mp3',\n",
       " '../data/nl_small/clips/common_voice_nl_17691036.mp3',\n",
       " '../data/nl_small/clips/common_voice_nl_17691478.mp3',\n",
       " '../data/nl_small/clips/common_voice_nl_17691488.mp3',\n",
       " '../data/nl_small/clips/common_voice_nl_17691499.mp3',\n",
       " '../data/nl_small/clips/common_voice_nl_17691032.mp3',\n",
       " '../data/nl_small/clips/common_voice_nl_17691476.mp3',\n",
       " '../data/nl_small/clips/common_voice_nl_17691471.mp3',\n",
       " '../data/nl_small/clips/common_voice_nl_17691498.mp3',\n",
       " '../data/nl_small/clips/common_voice_nl_17691489.mp3',\n",
       " '../data/nl_small/clips/common_voice_nl_17691033.mp3',\n",
       " '../data/nl_small/clips/common_voice_nl_17691472.mp3',\n",
       " '../data/nl_small/clips/common_voice_nl_17691467.mp3',\n",
       " '../data/nl_small/clips/common_voice_nl_17691479.mp3',\n",
       " '../data/nl_small/clips/common_voice_nl_17691473.mp3',\n",
       " '../data/de_small/clips/common_voice_de_17284706.mp3',\n",
       " '../data/de_small/clips/common_voice_de_17284709.mp3',\n",
       " '../data/de_small/clips/common_voice_de_17284696.mp3',\n",
       " '../data/de_small/clips/common_voice_de_17284700.mp3',\n",
       " '../data/de_small/clips/common_voice_de_17284710.mp3',\n",
       " '../data/de_small/clips/common_voice_de_17284693.mp3',\n",
       " '../data/de_small/clips/common_voice_de_17284697.mp3',\n",
       " '../data/de_small/clips/common_voice_de_17284702.mp3',\n",
       " '../data/de_small/clips/common_voice_de_17284703.mp3',\n",
       " '../data/de_small/clips/common_voice_de_17284701.mp3',\n",
       " '../data/de_small/clips/common_voice_de_17284695.mp3',\n",
       " '../data/de_small/clips/common_voice_de_17284683.mp3',\n",
       " '../data/de_small/clips/common_voice_de_17284705.mp3',\n",
       " '../data/de_small/clips/common_voice_de_17284689.mp3',\n",
       " '../data/de_small/clips/common_voice_de_17284714.mp3',\n",
       " '../data/de_small/clips/common_voice_de_17284685.mp3',\n",
       " '../data/de_small/clips/common_voice_de_17284708.mp3',\n",
       " '../data/de_small/clips/common_voice_de_17284711.mp3',\n",
       " '../data/de_small/clips/common_voice_de_17284715.mp3',\n",
       " '../data/de_small/clips/common_voice_de_17284684.mp3',\n",
       " '../data/de_small/clips/common_voice_de_17284692.mp3',\n",
       " '../data/de_small/clips/common_voice_de_17284704.mp3',\n",
       " '../data/de_small/clips/common_voice_de_17284690.mp3',\n",
       " '../data/de_small/clips/common_voice_de_17284699.mp3',\n",
       " '../data/de_small/clips/common_voice_de_17284691.mp3',\n",
       " '../data/de_small/clips/common_voice_de_17284698.mp3',\n",
       " '../data/de_small/clips/common_voice_de_17284713.mp3',\n",
       " '../data/de_small/clips/common_voice_de_17284707.mp3',\n",
       " '../data/de_small/clips/common_voice_de_17284712.mp3',\n",
       " '../data/de_small/clips/common_voice_de_17284694.mp3']"
      ]
     },
     "execution_count": 2,
     "metadata": {},
     "output_type": "execute_result"
    }
   ],
   "source": [
    "path_to_data = '../data/'\n",
    "mp3_files = glob.glob(path_to_data + '*/*/*.mp3')\n",
    "mp3_files"
   ]
  },
  {
   "cell_type": "code",
   "execution_count": 4,
   "metadata": {},
   "outputs": [],
   "source": [
    "for mp3_file in mp3_files:\n",
    "    wav_file = mp3_file.split('.mp3')[0]+'.wav'\n",
    "    sound = pydub.AudioSegment.from_mp3(mp3_file)\n",
    "    sound.export(wav_file, format='wav')"
   ]
  },
  {
   "cell_type": "code",
   "execution_count": null,
   "metadata": {},
   "outputs": [],
   "source": []
  }
 ],
 "metadata": {
  "kernelspec": {
   "display_name": "Python 3",
   "language": "python",
   "name": "python3"
  },
  "language_info": {
   "codemirror_mode": {
    "name": "ipython",
    "version": 3
   },
   "file_extension": ".py",
   "mimetype": "text/x-python",
   "name": "python",
   "nbconvert_exporter": "python",
   "pygments_lexer": "ipython3",
   "version": "3.7.5rc1"
  }
 },
 "nbformat": 4,
 "nbformat_minor": 2
}
